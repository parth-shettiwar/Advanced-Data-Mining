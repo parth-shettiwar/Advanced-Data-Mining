{
  "nbformat": 4,
  "nbformat_minor": 0,
  "metadata": {
    "colab": {
      "name": "hw6_Shettiwar_Parth_105710622 (1).ipynb",
      "provenance": [],
      "collapsed_sections": []
    },
    "kernelspec": {
      "name": "python3",
      "display_name": "Python 3"
    },
    "language_info": {
      "name": "python"
    },
    "accelerator": "GPU"
  },
  "cells": [
    {
      "cell_type": "markdown",
      "source": [
        "#  CS 247 : Advanced Data Mining Learning\n",
        "## Homework 6\n",
        "\n",
        "### Due: 11:59 pm 03/02\n",
        "\n",
        "##### Please read the Homework Guidance (uploaded to BruinLearn) carefully and make sure you fulfill all the requirements.\n",
        "\n"
      ],
      "metadata": {
        "id": "OqkcvatSVwgw"
      }
    },
    {
      "cell_type": "markdown",
      "source": [
        "## Problem 1: Graph Convolutional Network (50 pts = 20 + 20 + 10)\n",
        "\n",
        "\n",
        "In this problem, you are going to do node classification on Cora dataset with graph convolutional network. The `Cora` network holds 2,708 nodes and 10,556 edges, resulting in an average node degree of 3.9.\n",
        "For training this dataset, we are given the ground-truth categories of 140 nodes (20 for each class).\n",
        "\n",
        "You are going to implement a __two layer GCN model__ with the __GCNConv__ layer provided by __torch_geometric__. \n",
        "\n",
        "Complete the code and get the test accuracy. You can use whichever activation function, change all the hyper-parameters (__except the number of layers__). The expected test accuracy should be larger than $0.8$.\n",
        "\n",
        "__Hint__:\n",
        "\n",
        "1. You can use *torch.manual_seed()* to remove randomness\n",
        "\n",
        "2. See https://pytorch-geometric.readthedocs.io/en/latest/modules/nn.html#torch_geometric.nn.conv.GCNConv for a brief introduction to GCNConv. "
      ],
      "metadata": {
        "id": "UTRowcxWV5y1"
      }
    },
    {
      "cell_type": "code",
      "source": [
        "!pip install -q torch-scatter -f https://data.pyg.org/whl/torch-1.10.0+cu113.html\n",
        "!pip install -q torch-sparse -f https://data.pyg.org/whl/torch-1.10.0+cu113.html\n",
        "!pip install -q git+https://github.com/pyg-team/pytorch_geometric.git"
      ],
      "metadata": {
        "id": "aeg0RnJxU2OB",
        "colab": {
          "base_uri": "https://localhost:8080/",
          "height": 0
        },
        "outputId": "92983ae4-257e-4325-8b2e-2709227cec0e"
      },
      "execution_count": 1,
      "outputs": [
        {
          "output_type": "stream",
          "name": "stdout",
          "text": [
            "\u001b[K     |████████████████████████████████| 7.9 MB 14.5 MB/s \n",
            "\u001b[K     |████████████████████████████████| 3.5 MB 12.5 MB/s \n",
            "\u001b[?25h  Building wheel for torch-geometric (setup.py) ... \u001b[?25l\u001b[?25hdone\n"
          ]
        }
      ]
    },
    {
      "cell_type": "code",
      "execution_count": 2,
      "metadata": {
        "id": "nAxFkzDtUsWX",
        "colab": {
          "base_uri": "https://localhost:8080/",
          "height": 0
        },
        "outputId": "4c03dca1-cb1f-44af-c432-47f0cd7d64bf"
      },
      "outputs": [
        {
          "output_type": "stream",
          "name": "stderr",
          "text": [
            "Downloading https://github.com/kimiyoung/planetoid/raw/master/data/ind.cora.x\n",
            "Downloading https://github.com/kimiyoung/planetoid/raw/master/data/ind.cora.tx\n",
            "Downloading https://github.com/kimiyoung/planetoid/raw/master/data/ind.cora.allx\n",
            "Downloading https://github.com/kimiyoung/planetoid/raw/master/data/ind.cora.y\n",
            "Downloading https://github.com/kimiyoung/planetoid/raw/master/data/ind.cora.ty\n",
            "Downloading https://github.com/kimiyoung/planetoid/raw/master/data/ind.cora.ally\n",
            "Downloading https://github.com/kimiyoung/planetoid/raw/master/data/ind.cora.graph\n",
            "Downloading https://github.com/kimiyoung/planetoid/raw/master/data/ind.cora.test.index\n"
          ]
        },
        {
          "output_type": "stream",
          "name": "stdout",
          "text": [
            "\n",
            "Dataset: Cora():\n",
            "======================\n",
            "Number of graphs: 1\n",
            "Number of features: 1433\n",
            "Number of classes: 7\n",
            "\n",
            "Data(x=[2708, 1433], edge_index=[2, 10556], y=[2708], train_mask=[2708], val_mask=[2708], test_mask=[2708])\n",
            "===========================================================================================================\n",
            "Number of nodes: 2708\n",
            "Number of edges: 10556\n",
            "Average node degree: 3.90\n",
            "Number of training nodes: 140\n",
            "Training node label rate: 0.05\n",
            "Has isolated nodes: False\n",
            "Has self-loops: False\n",
            "Is undirected: True\n"
          ]
        },
        {
          "output_type": "stream",
          "name": "stderr",
          "text": [
            "Processing...\n",
            "Done!\n"
          ]
        }
      ],
      "source": [
        "from torch_geometric.datasets import Planetoid\n",
        "from torch_geometric.transforms import NormalizeFeatures\n",
        "\n",
        "# Download the dataset\n",
        "\n",
        "dataset = Planetoid(root='data/Planetoid', name='Cora', transform=NormalizeFeatures())\n",
        "\n",
        "print()\n",
        "print(f'Dataset: {dataset}:')\n",
        "print('======================')\n",
        "print(f'Number of graphs: {len(dataset)}')\n",
        "print(f'Number of features: {dataset.num_features}')\n",
        "print(f'Number of classes: {dataset.num_classes}')\n",
        "\n",
        "data = dataset[0]  # Get the first graph object.\n",
        "\n",
        "print()\n",
        "print(data)\n",
        "print('===========================================================================================================')\n",
        "\n",
        "# Gather some statistics about the graph.\n",
        "print(f'Number of nodes: {data.num_nodes}')\n",
        "print(f'Number of edges: {data.num_edges}')\n",
        "print(f'Average node degree: {data.num_edges / data.num_nodes:.2f}')\n",
        "print(f'Number of training nodes: {data.train_mask.sum()}')\n",
        "print(f'Training node label rate: {int(data.train_mask.sum()) / data.num_nodes:.2f}')\n",
        "print(f'Has isolated nodes: {data.has_isolated_nodes()}')\n",
        "print(f'Has self-loops: {data.has_self_loops()}')\n",
        "print(f'Is undirected: {data.is_undirected()}')"
      ]
    },
    {
      "cell_type": "code",
      "source": [
        "from torch_geometric.nn import GCNConv\n",
        "import torch\n",
        "import torch.nn.functional as F\n",
        "\n",
        "class GCN(torch.nn.Module):\n",
        "    def __init__(self, num_features, hidden_channels, num_classes):\n",
        "        super().__init__()\n",
        "        \"\"\"\n",
        "          TODO: implement the initialzation of the GCN model.\n",
        "            It should contain two GCNConv layers.\n",
        "        \"\"\"\n",
        "\n",
        "\n",
        "        self.gcn_l1 = GCNConv(num_features,hidden_channels)\n",
        "        self.gcn_l2 = GCNConv(hidden_channels,num_classes)\n",
        "        self.rel = torch.nn.ReLU()\n",
        "    \n",
        "        \n",
        "\n",
        "    def forward(self, x, edge_index):\n",
        "      x = self.gcn_l1(x,edge_index)\n",
        "      x = self.rel(x)\n",
        "      \n",
        "      x = self.gcn_l2(x,edge_index)\n",
        "\n",
        "\n",
        "    \n",
        "      \n",
        "      return x\n",
        "\n",
        "      \"\"\"\n",
        "        TODO: implement the forward pass of the GCN model.\n",
        "      \"\"\"\n",
        "       "
      ],
      "metadata": {
        "id": "dUzvCpJiVIq6"
      },
      "execution_count": 6,
      "outputs": []
    },
    {
      "cell_type": "code",
      "source": [
        "from IPython.display import Javascript  # Restrict height of output cell.\n",
        "display(Javascript('''google.colab.output.setIframeHeight(0, true, {maxHeight: 300})'''))\n",
        "\n",
        "model = GCN(num_features = dataset.num_features, hidden_channels=16,\n",
        "            num_classes=dataset.num_classes)\n",
        "print(model)\n",
        "optimizer = torch.optim.Adam(model.parameters(), lr=0.01, weight_decay=5e-4)\n",
        "criterion = torch.nn.CrossEntropyLoss()\n",
        "\n",
        "def train():\n",
        "      model.train()\n",
        "      optimizer.zero_grad()  # Clear gradients.\n",
        "      \n",
        "      out = model(data.x, data.edge_index)  # Perform a single forward pass.\n",
        "      # print(data.y,\"fds\")\n",
        "      loss = criterion(out[data.train_mask], data.y[data.train_mask])\n",
        "      \"\"\"\n",
        "        TODO: implement the code to compute loss function\n",
        "          You should use the 'criterion' we defined above              \n",
        "      \"\"\"\n",
        "      # Compute the loss solely based on the training nodes.\n",
        "      \n",
        "      loss.backward()  # Derive gradients.\n",
        "      optimizer.step()  # Update parameters based on gradients.\n",
        "      return loss\n",
        "\n",
        "def test():\n",
        "      model.eval()\n",
        "      out = model(data.x, data.edge_index)\n",
        "      pred = out.argmax(dim=1)  # Use the class with highest probability.\n",
        "      test_correct = pred[data.test_mask] == data.y[data.test_mask]  # Check against ground-truth labels.\n",
        "      test_acc = int(test_correct.sum()) / int(data.test_mask.sum())  # Derive ratio of correct predictions.\n",
        "      return test_acc\n",
        "\n",
        "\n",
        "for epoch in range(1, 150):\n",
        "    loss = train()\n",
        "    print(f'Epoch: {epoch:03d}, Loss: {loss:.4f}')"
      ],
      "metadata": {
        "id": "rZ7Lm-atVSVP",
        "colab": {
          "base_uri": "https://localhost:8080/",
          "height": 300
        },
        "outputId": "d216a097-e45e-4f12-878f-fd84579882a9"
      },
      "execution_count": 7,
      "outputs": [
        {
          "output_type": "display_data",
          "data": {
            "application/javascript": [
              "google.colab.output.setIframeHeight(0, true, {maxHeight: 300})"
            ],
            "text/plain": [
              "<IPython.core.display.Javascript object>"
            ]
          },
          "metadata": {}
        },
        {
          "output_type": "stream",
          "name": "stdout",
          "text": [
            "GCN(\n",
            "  (gcn_l1): GCNConv(1433, 16)\n",
            "  (gcn_l2): GCNConv(16, 7)\n",
            "  (rel): ReLU()\n",
            ")\n",
            "Epoch: 001, Loss: 1.9457\n",
            "Epoch: 002, Loss: 1.9412\n",
            "Epoch: 003, Loss: 1.9329\n",
            "Epoch: 004, Loss: 1.9216\n",
            "Epoch: 005, Loss: 1.9097\n",
            "Epoch: 006, Loss: 1.8980\n",
            "Epoch: 007, Loss: 1.8854\n",
            "Epoch: 008, Loss: 1.8718\n",
            "Epoch: 009, Loss: 1.8570\n",
            "Epoch: 010, Loss: 1.8411\n",
            "Epoch: 011, Loss: 1.8247\n",
            "Epoch: 012, Loss: 1.8075\n",
            "Epoch: 013, Loss: 1.7896\n",
            "Epoch: 014, Loss: 1.7710\n",
            "Epoch: 015, Loss: 1.7517\n",
            "Epoch: 016, Loss: 1.7317\n",
            "Epoch: 017, Loss: 1.7112\n",
            "Epoch: 018, Loss: 1.6901\n",
            "Epoch: 019, Loss: 1.6683\n",
            "Epoch: 020, Loss: 1.6460\n",
            "Epoch: 021, Loss: 1.6233\n",
            "Epoch: 022, Loss: 1.6000\n",
            "Epoch: 023, Loss: 1.5762\n",
            "Epoch: 024, Loss: 1.5520\n",
            "Epoch: 025, Loss: 1.5274\n",
            "Epoch: 026, Loss: 1.5024\n",
            "Epoch: 027, Loss: 1.4770\n",
            "Epoch: 028, Loss: 1.4513\n",
            "Epoch: 029, Loss: 1.4253\n",
            "Epoch: 030, Loss: 1.3991\n",
            "Epoch: 031, Loss: 1.3727\n",
            "Epoch: 032, Loss: 1.3463\n",
            "Epoch: 033, Loss: 1.3197\n",
            "Epoch: 034, Loss: 1.2931\n",
            "Epoch: 035, Loss: 1.2666\n",
            "Epoch: 036, Loss: 1.2401\n",
            "Epoch: 037, Loss: 1.2138\n",
            "Epoch: 038, Loss: 1.1876\n",
            "Epoch: 039, Loss: 1.1616\n",
            "Epoch: 040, Loss: 1.1359\n",
            "Epoch: 041, Loss: 1.1106\n",
            "Epoch: 042, Loss: 1.0855\n",
            "Epoch: 043, Loss: 1.0609\n",
            "Epoch: 044, Loss: 1.0366\n",
            "Epoch: 045, Loss: 1.0129\n",
            "Epoch: 046, Loss: 0.9896\n",
            "Epoch: 047, Loss: 0.9667\n",
            "Epoch: 048, Loss: 0.9445\n",
            "Epoch: 049, Loss: 0.9227\n",
            "Epoch: 050, Loss: 0.9015\n",
            "Epoch: 051, Loss: 0.8808\n",
            "Epoch: 052, Loss: 0.8607\n",
            "Epoch: 053, Loss: 0.8412\n",
            "Epoch: 054, Loss: 0.8223\n",
            "Epoch: 055, Loss: 0.8039\n",
            "Epoch: 056, Loss: 0.7861\n",
            "Epoch: 057, Loss: 0.7688\n",
            "Epoch: 058, Loss: 0.7521\n",
            "Epoch: 059, Loss: 0.7359\n",
            "Epoch: 060, Loss: 0.7203\n",
            "Epoch: 061, Loss: 0.7052\n",
            "Epoch: 062, Loss: 0.6906\n",
            "Epoch: 063, Loss: 0.6766\n",
            "Epoch: 064, Loss: 0.6630\n",
            "Epoch: 065, Loss: 0.6499\n",
            "Epoch: 066, Loss: 0.6372\n",
            "Epoch: 067, Loss: 0.6250\n",
            "Epoch: 068, Loss: 0.6133\n",
            "Epoch: 069, Loss: 0.6019\n",
            "Epoch: 070, Loss: 0.5910\n",
            "Epoch: 071, Loss: 0.5805\n",
            "Epoch: 072, Loss: 0.5703\n",
            "Epoch: 073, Loss: 0.5605\n",
            "Epoch: 074, Loss: 0.5510\n",
            "Epoch: 075, Loss: 0.5419\n",
            "Epoch: 076, Loss: 0.5330\n",
            "Epoch: 077, Loss: 0.5245\n",
            "Epoch: 078, Loss: 0.5163\n",
            "Epoch: 079, Loss: 0.5084\n",
            "Epoch: 080, Loss: 0.5007\n",
            "Epoch: 081, Loss: 0.4933\n",
            "Epoch: 082, Loss: 0.4861\n",
            "Epoch: 083, Loss: 0.4792\n",
            "Epoch: 084, Loss: 0.4724\n",
            "Epoch: 085, Loss: 0.4659\n",
            "Epoch: 086, Loss: 0.4597\n",
            "Epoch: 087, Loss: 0.4536\n",
            "Epoch: 088, Loss: 0.4477\n",
            "Epoch: 089, Loss: 0.4419\n",
            "Epoch: 090, Loss: 0.4364\n",
            "Epoch: 091, Loss: 0.4310\n",
            "Epoch: 092, Loss: 0.4258\n",
            "Epoch: 093, Loss: 0.4207\n",
            "Epoch: 094, Loss: 0.4158\n",
            "Epoch: 095, Loss: 0.4110\n",
            "Epoch: 096, Loss: 0.4064\n",
            "Epoch: 097, Loss: 0.4019\n",
            "Epoch: 098, Loss: 0.3975\n",
            "Epoch: 099, Loss: 0.3932\n",
            "Epoch: 100, Loss: 0.3890\n",
            "Epoch: 101, Loss: 0.3850\n",
            "Epoch: 102, Loss: 0.3810\n",
            "Epoch: 103, Loss: 0.3772\n",
            "Epoch: 104, Loss: 0.3734\n",
            "Epoch: 105, Loss: 0.3698\n",
            "Epoch: 106, Loss: 0.3662\n",
            "Epoch: 107, Loss: 0.3627\n",
            "Epoch: 108, Loss: 0.3593\n",
            "Epoch: 109, Loss: 0.3560\n",
            "Epoch: 110, Loss: 0.3528\n",
            "Epoch: 111, Loss: 0.3496\n",
            "Epoch: 112, Loss: 0.3465\n",
            "Epoch: 113, Loss: 0.3435\n",
            "Epoch: 114, Loss: 0.3406\n",
            "Epoch: 115, Loss: 0.3377\n",
            "Epoch: 116, Loss: 0.3349\n",
            "Epoch: 117, Loss: 0.3321\n",
            "Epoch: 118, Loss: 0.3294\n",
            "Epoch: 119, Loss: 0.3268\n",
            "Epoch: 120, Loss: 0.3242\n",
            "Epoch: 121, Loss: 0.3216\n",
            "Epoch: 122, Loss: 0.3192\n",
            "Epoch: 123, Loss: 0.3167\n",
            "Epoch: 124, Loss: 0.3143\n",
            "Epoch: 125, Loss: 0.3120\n",
            "Epoch: 126, Loss: 0.3097\n",
            "Epoch: 127, Loss: 0.3075\n",
            "Epoch: 128, Loss: 0.3053\n",
            "Epoch: 129, Loss: 0.3031\n",
            "Epoch: 130, Loss: 0.3010\n",
            "Epoch: 131, Loss: 0.2989\n",
            "Epoch: 132, Loss: 0.2968\n",
            "Epoch: 133, Loss: 0.2948\n",
            "Epoch: 134, Loss: 0.2929\n",
            "Epoch: 135, Loss: 0.2909\n",
            "Epoch: 136, Loss: 0.2890\n",
            "Epoch: 137, Loss: 0.2872\n",
            "Epoch: 138, Loss: 0.2853\n",
            "Epoch: 139, Loss: 0.2835\n",
            "Epoch: 140, Loss: 0.2817\n",
            "Epoch: 141, Loss: 0.2800\n",
            "Epoch: 142, Loss: 0.2783\n",
            "Epoch: 143, Loss: 0.2766\n",
            "Epoch: 144, Loss: 0.2749\n",
            "Epoch: 145, Loss: 0.2733\n",
            "Epoch: 146, Loss: 0.2717\n",
            "Epoch: 147, Loss: 0.2701\n",
            "Epoch: 148, Loss: 0.2686\n",
            "Epoch: 149, Loss: 0.2670\n"
          ]
        }
      ]
    },
    {
      "cell_type": "code",
      "source": [
        "test_acc = test()\n",
        "print(f'Test Accuracy: {test_acc:.4f}')"
      ],
      "metadata": {
        "id": "oD1QRALrVlL7",
        "colab": {
          "base_uri": "https://localhost:8080/",
          "height": 0
        },
        "outputId": "48883012-3d6b-4647-dcd7-8aa6ad977a43"
      },
      "execution_count": 9,
      "outputs": [
        {
          "output_type": "stream",
          "name": "stdout",
          "text": [
            "Test Accuracy: 0.8090\n"
          ]
        }
      ]
    },
    {
      "cell_type": "markdown",
      "source": [
        "## Problem 2: Knowledge Graph Embedding (50 pts)\n",
        "\n",
        "In this problem, you are going to consider the TransE, DistMult, and RotatE models (slide09 P23-30). You are going to answer the following questions and provide reasons."
      ],
      "metadata": {
        "id": "Il6K4qc9Z-G4"
      }
    },
    {
      "cell_type": "markdown",
      "source": [
        "### Part 1 (20 pts)\n",
        "\n",
        "If we have a knowledge graph with __friendship__ and __enemy__ relationship, which model(s) of the TransE, DistMult, and RotatE we __can__ use? Please explain your reason based on the score function of each model.\n",
        "\n",
        "__Hint__\n",
        "\n",
        "Friendship and enemy are symmetric relationships."
      ],
      "metadata": {
        "id": "bEL3l24klkFw"
      }
    },
    {
      "cell_type": "markdown",
      "source": [
        "#### Write Your Answer Here\n",
        "\n",
        "![pic](https://drive.google.com/uc?export=view&id=1pwrvElFdVTrqsRQrYIMkk3BR6oYcpdvz)\n",
        "![pic](https://drive.google.com/uc?export=view&id=1lqxaEFSiwb-fsCVEDe758ou8kNz1UJ-K)\n",
        "![pic](https://drive.google.com/uc?export=view&id=1Kya-dyKmJfSGb4yxwEROPSepexMk7ipH)"
      ],
      "metadata": {
        "id": "DRhAI2CynFso"
      }
    },
    {
      "cell_type": "markdown",
      "source": [
        "### Part 2 (10 pts)\n",
        "\n",
        "If we have a graph with the __teaching__ relationship, which model(s) we __should not__ use? Please explain your reason based on the score function.\n",
        "\n",
        "__Hint__\n",
        "\n",
        "Teaching is an asymmetric relationship."
      ],
      "metadata": {
        "id": "N9iDFhVDnxE5"
      }
    },
    {
      "cell_type": "markdown",
      "source": [
        "#### Write Your Answer Here\n",
        "\n",
        "\n",
        "![pic](https://drive.google.com/uc?export=view&id=1Wzck2Njmg3sDHUwXSRRM_bvozJNkBCSw)\n",
        "![pic](https://drive.google.com/uc?export=view&id=1_wOkW1jVjxIXmOh0fNnrlhTiKXJ4HvQw)\n",
        "![pic](https://drive.google.com/uc?export=view&id=1Uz-cW5k-mU_6qrd6DYm1X1EpRb6t-NU9)"
      ],
      "metadata": {
        "id": "R9Oa2zjMollc"
      }
    },
    {
      "cell_type": "markdown",
      "source": [
        "## Part 3 (20 pts)\n",
        "\n",
        "If we have a knowledge graph with __father, grandfather, mother, and grandmother__ relationship, which model(s) we __can__ use? Please explain your reason based on the score function.\n",
        "\n",
        "__Hint__\n",
        "\n",
        "The father of father is grandfather. The mother of mother is grandmother. Which model(s) can model composition relationship? How？"
      ],
      "metadata": {
        "id": "O4Ek4W7vokmy"
      }
    },
    {
      "cell_type": "markdown",
      "source": [
        "#### Write Your Answer Here\n",
        "\n",
        "\n",
        "\n",
        "![pic](https://drive.google.com/uc?export=view&id=1v285fbzAmTWnDNYdi4yl5gAianH6d-Hd)\n",
        "![pic](https://drive.google.com/uc?export=view&id=1KNgX2e90gty4MaUEt8j4MSEqT0CUSrZ4)\n",
        "![pic](https://drive.google.com/uc?export=view&id=1wJkmb8jQOcdMtPGlaNao4CjtReVdZJXZ)"
      ],
      "metadata": {
        "id": "-uwncmzspaOM"
      }
    },
    {
      "cell_type": "markdown",
      "source": [
        "## Bonus Problem: Relational GCN (10 pts)\n",
        "\n",
        "The knowledge graph embedding models taught in the lecture are all shallow embeddings. And we learned that a typical deep embedding model for graphs is GCN, which, according to the slides, can be describe as\n",
        "$$\n",
        "h_v^k = \\sigma(W_k\\sum_{u\\in N(v)⋃ v}\\frac{h_u^{k-1}}{\\sqrt{|N(u)||N(v)|}})\n",
        "$$\n",
        "\n",
        "However, it cannot handle knowledge graphs because it does not consider edge labels in its model.\n",
        "\n",
        "Please describe a way to extend the GCN model so it can handle knowledge graph. "
      ],
      "metadata": {
        "id": "0TmWQs8Zp5xQ"
      }
    },
    {
      "cell_type": "markdown",
      "source": [
        "#### Write Your Answer Here"
      ],
      "metadata": {
        "id": "rK8lBq5Qt2h8"
      }
    }
  ]
}